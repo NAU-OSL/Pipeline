{
 "cells": [
  {
   "cell_type": "code",
   "execution_count": 8,
   "metadata": {},
   "outputs": [],
   "source": [
    "import numpy as np\n",
    "import pandas as pd\n",
    "from sklearn.preprocessing import MultiLabelBinarizer\n",
    "from sklearn.metrics import f1_score, average_precision_score"
   ]
  },
  {
   "cell_type": "code",
   "execution_count": 80,
   "metadata": {},
   "outputs": [],
   "source": [
    "dfPre = pd.read_csv('./data/predict.csv',header=0,dtype=int,index_col=0)\n",
    "dfCla = pd.read_csv('./data/classes.csv',sep=';',index_col=0,header=None).loc[dfPre.index]\n",
    "\n"
   ]
  },
  {
   "cell_type": "code",
   "execution_count": 81,
   "metadata": {},
   "outputs": [
    {
     "data": {
      "text/html": [
       "<div>\n",
       "<style scoped>\n",
       "    .dataframe tbody tr th:only-of-type {\n",
       "        vertical-align: middle;\n",
       "    }\n",
       "\n",
       "    .dataframe tbody tr th {\n",
       "        vertical-align: top;\n",
       "    }\n",
       "\n",
       "    .dataframe thead th {\n",
       "        text-align: right;\n",
       "    }\n",
       "</style>\n",
       "<table border=\"1\" class=\"dataframe\">\n",
       "  <thead>\n",
       "    <tr style=\"text-align: right;\">\n",
       "      <th></th>\n",
       "      <th>0.1</th>\n",
       "      <th>1</th>\n",
       "      <th>2</th>\n",
       "      <th>3</th>\n",
       "      <th>4</th>\n",
       "      <th>5</th>\n",
       "      <th>6</th>\n",
       "      <th>7</th>\n",
       "      <th>8</th>\n",
       "      <th>9</th>\n",
       "      <th>10</th>\n",
       "      <th>11</th>\n",
       "      <th>12</th>\n",
       "      <th>13</th>\n",
       "      <th>14</th>\n",
       "      <th>15</th>\n",
       "      <th>16</th>\n",
       "      <th>17</th>\n",
       "    </tr>\n",
       "    <tr>\n",
       "      <th>0</th>\n",
       "      <th></th>\n",
       "      <th></th>\n",
       "      <th></th>\n",
       "      <th></th>\n",
       "      <th></th>\n",
       "      <th></th>\n",
       "      <th></th>\n",
       "      <th></th>\n",
       "      <th></th>\n",
       "      <th></th>\n",
       "      <th></th>\n",
       "      <th></th>\n",
       "      <th></th>\n",
       "      <th></th>\n",
       "      <th></th>\n",
       "      <th></th>\n",
       "      <th></th>\n",
       "      <th></th>\n",
       "    </tr>\n",
       "  </thead>\n",
       "  <tbody>\n",
       "    <tr>\n",
       "      <td>10008</td>\n",
       "      <td>1</td>\n",
       "      <td>0</td>\n",
       "      <td>0</td>\n",
       "      <td>0</td>\n",
       "      <td>0</td>\n",
       "      <td>0</td>\n",
       "      <td>1</td>\n",
       "      <td>0</td>\n",
       "      <td>0</td>\n",
       "      <td>0</td>\n",
       "      <td>1</td>\n",
       "      <td>0</td>\n",
       "      <td>0</td>\n",
       "      <td>0</td>\n",
       "      <td>1</td>\n",
       "      <td>0</td>\n",
       "      <td>1</td>\n",
       "      <td>0</td>\n",
       "    </tr>\n",
       "    <tr>\n",
       "      <td>10012</td>\n",
       "      <td>1</td>\n",
       "      <td>0</td>\n",
       "      <td>0</td>\n",
       "      <td>0</td>\n",
       "      <td>1</td>\n",
       "      <td>0</td>\n",
       "      <td>0</td>\n",
       "      <td>0</td>\n",
       "      <td>1</td>\n",
       "      <td>0</td>\n",
       "      <td>0</td>\n",
       "      <td>0</td>\n",
       "      <td>0</td>\n",
       "      <td>0</td>\n",
       "      <td>0</td>\n",
       "      <td>0</td>\n",
       "      <td>0</td>\n",
       "      <td>0</td>\n",
       "    </tr>\n",
       "    <tr>\n",
       "      <td>10017</td>\n",
       "      <td>0</td>\n",
       "      <td>0</td>\n",
       "      <td>0</td>\n",
       "      <td>0</td>\n",
       "      <td>0</td>\n",
       "      <td>0</td>\n",
       "      <td>0</td>\n",
       "      <td>0</td>\n",
       "      <td>0</td>\n",
       "      <td>1</td>\n",
       "      <td>0</td>\n",
       "      <td>0</td>\n",
       "      <td>0</td>\n",
       "      <td>0</td>\n",
       "      <td>0</td>\n",
       "      <td>0</td>\n",
       "      <td>0</td>\n",
       "      <td>0</td>\n",
       "    </tr>\n",
       "    <tr>\n",
       "      <td>100183</td>\n",
       "      <td>1</td>\n",
       "      <td>0</td>\n",
       "      <td>0</td>\n",
       "      <td>0</td>\n",
       "      <td>0</td>\n",
       "      <td>0</td>\n",
       "      <td>0</td>\n",
       "      <td>0</td>\n",
       "      <td>0</td>\n",
       "      <td>0</td>\n",
       "      <td>0</td>\n",
       "      <td>0</td>\n",
       "      <td>0</td>\n",
       "      <td>0</td>\n",
       "      <td>1</td>\n",
       "      <td>0</td>\n",
       "      <td>0</td>\n",
       "      <td>0</td>\n",
       "    </tr>\n",
       "    <tr>\n",
       "      <td>10019</td>\n",
       "      <td>1</td>\n",
       "      <td>1</td>\n",
       "      <td>0</td>\n",
       "      <td>0</td>\n",
       "      <td>0</td>\n",
       "      <td>0</td>\n",
       "      <td>1</td>\n",
       "      <td>0</td>\n",
       "      <td>0</td>\n",
       "      <td>0</td>\n",
       "      <td>0</td>\n",
       "      <td>0</td>\n",
       "      <td>0</td>\n",
       "      <td>0</td>\n",
       "      <td>0</td>\n",
       "      <td>0</td>\n",
       "      <td>1</td>\n",
       "      <td>0</td>\n",
       "    </tr>\n",
       "  </tbody>\n",
       "</table>\n",
       "</div>"
      ],
      "text/plain": [
       "        0.1  1  2  3  4  5  6  7  8  9  10  11  12  13  14  15  16  17\n",
       "0                                                                     \n",
       "10008     1  0  0  0  0  0  1  0  0  0   1   0   0   0   1   0   1   0\n",
       "10012     1  0  0  0  1  0  0  0  1  0   0   0   0   0   0   0   0   0\n",
       "10017     0  0  0  0  0  0  0  0  0  1   0   0   0   0   0   0   0   0\n",
       "100183    1  0  0  0  0  0  0  0  0  0   0   0   0   0   1   0   0   0\n",
       "10019     1  1  0  0  0  0  1  0  0  0   0   0   0   0   0   0   1   0"
      ]
     },
     "execution_count": 81,
     "metadata": {},
     "output_type": "execute_result"
    }
   ],
   "source": [
    "dfPre.head()"
   ]
  },
  {
   "cell_type": "code",
   "execution_count": 82,
   "metadata": {},
   "outputs": [
    {
     "data": {
      "text/plain": [
       "(2119, 18)"
      ]
     },
     "execution_count": 82,
     "metadata": {},
     "output_type": "execute_result"
    }
   ],
   "source": [
    "dfPre.shape"
   ]
  },
  {
   "cell_type": "code",
   "execution_count": 83,
   "metadata": {},
   "outputs": [
    {
     "data": {
      "text/plain": [
       "Int64Index([ 10008,  10012,  10017, 100183,  10019,  10020,  10023, 100241,\n",
       "            100271,  10047,\n",
       "            ...\n",
       "              9922,   9924,    993,   9944,   9959,    996,   9966,   9968,\n",
       "              9978,   9989],\n",
       "           dtype='int64', name='0', length=2119)"
      ]
     },
     "execution_count": 83,
     "metadata": {},
     "output_type": "execute_result"
    }
   ],
   "source": [
    "dfPre.index"
   ]
  },
  {
   "cell_type": "code",
   "execution_count": 84,
   "metadata": {},
   "outputs": [
    {
     "data": {
      "text/html": [
       "<div>\n",
       "<style scoped>\n",
       "    .dataframe tbody tr th:only-of-type {\n",
       "        vertical-align: middle;\n",
       "    }\n",
       "\n",
       "    .dataframe tbody tr th {\n",
       "        vertical-align: top;\n",
       "    }\n",
       "\n",
       "    .dataframe thead th {\n",
       "        text-align: right;\n",
       "    }\n",
       "</style>\n",
       "<table border=\"1\" class=\"dataframe\">\n",
       "  <thead>\n",
       "    <tr style=\"text-align: right;\">\n",
       "      <th></th>\n",
       "      <th>1</th>\n",
       "    </tr>\n",
       "    <tr>\n",
       "      <th>0</th>\n",
       "      <th></th>\n",
       "    </tr>\n",
       "  </thead>\n",
       "  <tbody>\n",
       "    <tr>\n",
       "      <td>10008</td>\n",
       "      <td>Horror-Thriller</td>\n",
       "    </tr>\n",
       "    <tr>\n",
       "      <td>10012</td>\n",
       "      <td>Comedy-Horror</td>\n",
       "    </tr>\n",
       "    <tr>\n",
       "      <td>10017</td>\n",
       "      <td>Action-Science_Fiction</td>\n",
       "    </tr>\n",
       "    <tr>\n",
       "      <td>100183</td>\n",
       "      <td>Action-Horror</td>\n",
       "    </tr>\n",
       "    <tr>\n",
       "      <td>10019</td>\n",
       "      <td>Comedy-Fantasy-Romance</td>\n",
       "    </tr>\n",
       "  </tbody>\n",
       "</table>\n",
       "</div>"
      ],
      "text/plain": [
       "                             1\n",
       "0                             \n",
       "10008          Horror-Thriller\n",
       "10012            Comedy-Horror\n",
       "10017   Action-Science_Fiction\n",
       "100183           Action-Horror\n",
       "10019   Comedy-Fantasy-Romance"
      ]
     },
     "execution_count": 84,
     "metadata": {},
     "output_type": "execute_result"
    }
   ],
   "source": [
    "dfCla.head()"
   ]
  },
  {
   "cell_type": "code",
   "execution_count": 85,
   "metadata": {},
   "outputs": [
    {
     "data": {
      "text/plain": [
       "(2119, 1)"
      ]
     },
     "execution_count": 85,
     "metadata": {},
     "output_type": "execute_result"
    }
   ],
   "source": [
    "dfCla.shape"
   ]
  },
  {
   "cell_type": "code",
   "execution_count": 86,
   "metadata": {},
   "outputs": [
    {
     "data": {
      "text/plain": [
       "Int64Index([ 10008,  10012,  10017, 100183,  10019,  10020,  10023, 100241,\n",
       "            100271,  10047,\n",
       "            ...\n",
       "              9922,   9924,    993,   9944,   9959,    996,   9966,   9968,\n",
       "              9978,   9989],\n",
       "           dtype='int64', name='0', length=2119)"
      ]
     },
     "execution_count": 86,
     "metadata": {},
     "output_type": "execute_result"
    }
   ],
   "source": [
    "dfCla.index"
   ]
  },
  {
   "cell_type": "code",
   "execution_count": 87,
   "metadata": {},
   "outputs": [],
   "source": [
    "dfCla['valid'] = np.where(dfCla.index==dfPre.index, True, False)"
   ]
  },
  {
   "cell_type": "code",
   "execution_count": 88,
   "metadata": {},
   "outputs": [],
   "source": [
    "valid = np.where(dfCla.valid==True)\n"
   ]
  },
  {
   "cell_type": "code",
   "execution_count": 89,
   "metadata": {},
   "outputs": [
    {
     "data": {
      "text/plain": [
       "2119"
      ]
     },
     "execution_count": 89,
     "metadata": {},
     "output_type": "execute_result"
    }
   ],
   "source": [
    "len(valid[0])"
   ]
  },
  {
   "cell_type": "code",
   "execution_count": 90,
   "metadata": {},
   "outputs": [
    {
     "data": {
      "text/plain": [
       "array([   0,    1,    2, ..., 2116, 2117, 2118])"
      ]
     },
     "execution_count": 90,
     "metadata": {},
     "output_type": "execute_result"
    }
   ],
   "source": [
    "valid[0]"
   ]
  },
  {
   "cell_type": "code",
   "execution_count": 91,
   "metadata": {},
   "outputs": [
    {
     "data": {
      "text/html": [
       "<div>\n",
       "<style scoped>\n",
       "    .dataframe tbody tr th:only-of-type {\n",
       "        vertical-align: middle;\n",
       "    }\n",
       "\n",
       "    .dataframe tbody tr th {\n",
       "        vertical-align: top;\n",
       "    }\n",
       "\n",
       "    .dataframe thead th {\n",
       "        text-align: right;\n",
       "    }\n",
       "</style>\n",
       "<table border=\"1\" class=\"dataframe\">\n",
       "  <thead>\n",
       "    <tr style=\"text-align: right;\">\n",
       "      <th></th>\n",
       "      <th>1</th>\n",
       "      <th>valid</th>\n",
       "    </tr>\n",
       "    <tr>\n",
       "      <th>0</th>\n",
       "      <th></th>\n",
       "      <th></th>\n",
       "    </tr>\n",
       "  </thead>\n",
       "  <tbody>\n",
       "    <tr>\n",
       "      <td>10008</td>\n",
       "      <td>Horror-Thriller</td>\n",
       "      <td>True</td>\n",
       "    </tr>\n",
       "    <tr>\n",
       "      <td>10012</td>\n",
       "      <td>Comedy-Horror</td>\n",
       "      <td>True</td>\n",
       "    </tr>\n",
       "    <tr>\n",
       "      <td>10017</td>\n",
       "      <td>Action-Science_Fiction</td>\n",
       "      <td>True</td>\n",
       "    </tr>\n",
       "    <tr>\n",
       "      <td>100183</td>\n",
       "      <td>Action-Horror</td>\n",
       "      <td>True</td>\n",
       "    </tr>\n",
       "    <tr>\n",
       "      <td>10019</td>\n",
       "      <td>Comedy-Fantasy-Romance</td>\n",
       "      <td>True</td>\n",
       "    </tr>\n",
       "    <tr>\n",
       "      <td>...</td>\n",
       "      <td>...</td>\n",
       "      <td>...</td>\n",
       "    </tr>\n",
       "    <tr>\n",
       "      <td>996</td>\n",
       "      <td>Crime-Drama-Mystery-Thriller</td>\n",
       "      <td>True</td>\n",
       "    </tr>\n",
       "    <tr>\n",
       "      <td>9966</td>\n",
       "      <td>Horror-Mystery-Thriller</td>\n",
       "      <td>True</td>\n",
       "    </tr>\n",
       "    <tr>\n",
       "      <td>9968</td>\n",
       "      <td>Comedy-Crime-Drama</td>\n",
       "      <td>True</td>\n",
       "    </tr>\n",
       "    <tr>\n",
       "      <td>9978</td>\n",
       "      <td>Action-Adventure-Family</td>\n",
       "      <td>True</td>\n",
       "    </tr>\n",
       "    <tr>\n",
       "      <td>9989</td>\n",
       "      <td>Action-Crime-Drama</td>\n",
       "      <td>True</td>\n",
       "    </tr>\n",
       "  </tbody>\n",
       "</table>\n",
       "<p>2119 rows × 2 columns</p>\n",
       "</div>"
      ],
      "text/plain": [
       "                                   1  valid\n",
       "0                                          \n",
       "10008                Horror-Thriller   True\n",
       "10012                  Comedy-Horror   True\n",
       "10017         Action-Science_Fiction   True\n",
       "100183                 Action-Horror   True\n",
       "10019         Comedy-Fantasy-Romance   True\n",
       "...                              ...    ...\n",
       "996     Crime-Drama-Mystery-Thriller   True\n",
       "9966         Horror-Mystery-Thriller   True\n",
       "9968              Comedy-Crime-Drama   True\n",
       "9978         Action-Adventure-Family   True\n",
       "9989              Action-Crime-Drama   True\n",
       "\n",
       "[2119 rows x 2 columns]"
      ]
     },
     "execution_count": 91,
     "metadata": {},
     "output_type": "execute_result"
    }
   ],
   "source": [
    "dfCla"
   ]
  },
  {
   "cell_type": "code",
   "execution_count": 120,
   "metadata": {},
   "outputs": [],
   "source": [
    "\n",
    "\n",
    "def metric():\n",
    "    columns = ['Accuracy','F-Score','AUC-PR']\n",
    "\n",
    "    #predictions = pd.read_csv('./data/predict_file1x4.csv',header=0,dtype=int,index_col=0)\n",
    "    predictions = pd.read_csv('./data/predict_file_20.csv',header=0,dtype=int,index_col=0)\n",
    "    y_pred = predictions.values\n",
    "    probabilities = pd.read_csv('./data/probability_file_20.csv',header=0,dtype=float,index_col=0)\n",
    "    y_proba = probabilities.values\n",
    "\n",
    "    true = pd.read_csv('./data/PRClasses_20.csv',sep=';',index_col=0,header=None).loc[predictions.index]\n",
    "    values = [x[0].split('-') for x in true.values]\n",
    "    mlb = MultiLabelBinarizer()\n",
    "    y_true = mlb.fit_transform(values)\n",
    "    \n",
    "    #Accuracy\n",
    "    acc_ml = accuracy_ml(y_pred,y_true)\n",
    "    #F1-Score\n",
    "    fmeasure_score = f1_score(y_pred,y_true, average='micro')\n",
    "    #AUC-PR\n",
    "    pr_score = average_precision_score(y_true,y_proba,average='micro')\n",
    "\n",
    "    arr = [acc_ml,fmeasure_score,pr_score]\n",
    "\n",
    "    df = pd.DataFrame([arr],columns=columns)\n",
    "\n",
    "    print(df)\n",
    "\n",
    "def accuracy_ml(y_pred,y_true):\n",
    "    y = y_true == 1\n",
    "    y_t = [[index for index, value in enumerate(data) if value == 1] for data in y_true]\n",
    "    y_p = [[index for index, value in enumerate(data) if value == 1] for data in y_pred]\n",
    "    acc = 0\n",
    "    for i in range(len(y_t)):\n",
    "        s,t = set(y_t[i]),set(y_p[i])\n",
    "        union = s.union(t)\n",
    "        intersection = s.intersection(t)\n",
    "        acc += (len(intersection)/len(union))\n",
    "    return acc/len(y_t)"
   ]
  },
  {
   "cell_type": "code",
   "execution_count": 121,
   "metadata": {},
   "outputs": [
    {
     "name": "stdout",
     "output_type": "stream",
     "text": [
      "   Accuracy  F-Score  AUC-PR\n",
      "0       1.0      1.0     1.0\n"
     ]
    }
   ],
   "source": [
    "metric()"
   ]
  },
  {
   "cell_type": "code",
   "execution_count": 106,
   "metadata": {},
   "outputs": [],
   "source": [
    "\n",
    "def accuracy_ml(y_pred,y_true):\n",
    "    y = y_true == 1\n",
    "    y_t = [[index for index, value in enumerate(data) if value == 1] for data in y_true]\n",
    "    y_p = [[index for index, value in enumerate(data) if value == 1] for data in y_pred]\n",
    "    acc = 0\n",
    "    for i in range(len(y_t)):\n",
    "        s,t = set(y_t[i]),set(y_p[i])\n",
    "        union = s.union(t)\n",
    "        intersection = s.intersection(t)\n",
    "        acc += (len(intersection)/len(union))\n",
    "    return acc/len(y_t)\n",
    "\n"
   ]
  },
  {
   "cell_type": "code",
   "execution_count": 122,
   "metadata": {},
   "outputs": [],
   "source": [
    "columns = ['Accuracy','F-Score','AUC-PR']\n",
    "\n",
    "#predictions = pd.read_csv('./data/predict_file1x4.csv',header=0,dtype=int,index_col=0)\n",
    "predictions = pd.read_csv('./data/predict_file_20.csv',header=0,dtype=int,index_col=0)\n",
    "y_pred = predictions.values\n",
    "probabilities = pd.read_csv('./data/probability_file_20.csv',header=0,dtype=float,index_col=0)\n",
    "y_proba = probabilities.values"
   ]
  },
  {
   "cell_type": "code",
   "execution_count": 123,
   "metadata": {},
   "outputs": [],
   "source": [
    "true = pd.read_csv('./data/PRClasses_20.csv',sep=';',index_col=0,header=None).loc[predictions.index]\n",
    "values = [x[0].split('-') for x in true.values]\n",
    "mlb = MultiLabelBinarizer()\n",
    "y_true = mlb.fit_transform(values)"
   ]
  },
  {
   "cell_type": "code",
   "execution_count": 124,
   "metadata": {},
   "outputs": [
    {
     "data": {
      "text/plain": [
       "[['Throws',\n",
       "  'Logging',\n",
       "  'UI',\n",
       "  'UserPreferences',\n",
       "  'Utils',\n",
       "  'DataStructure',\n",
       "  'IO',\n",
       "  'Network'],\n",
       " ['IO',\n",
       "  'Utils',\n",
       "  'Throws',\n",
       "  'Logging',\n",
       "  'Network',\n",
       "  'UI',\n",
       "  'UserPreferences',\n",
       "  'DataStructure'],\n",
       " ['DataStructure', 'Utils'],\n",
       " ['Utils', 'TextUtility', 'IO', 'DataStructure'],\n",
       " ['Concurrency', 'Logging', 'DataStructure'],\n",
       " ['IO',\n",
       "  'Network',\n",
       "  'UserPreferences',\n",
       "  'Logging',\n",
       "  'DataStructure',\n",
       "  'UI',\n",
       "  'Throws',\n",
       "  'Utils',\n",
       "  'Dependency'],\n",
       " ['DataStructure', 'IO', 'Logging', 'UI', 'Dependency', 'Utils'],\n",
       " ['IO', 'Utils', 'DataStructure', 'Logging'],\n",
       " ['DataStructure', 'Utils'],\n",
       " ['Logging', 'Data', 'DataStructure', 'XML'],\n",
       " ['Utils'],\n",
       " ['Utils', 'DataStructure'],\n",
       " ['DataStructure',\n",
       "  'Network',\n",
       "  'Utils',\n",
       "  'UI',\n",
       "  'IO',\n",
       "  'Logging',\n",
       "  'Throws',\n",
       "  'UserPreferences'],\n",
       " ['IO',\n",
       "  'Network',\n",
       "  'UI',\n",
       "  'DataStructure',\n",
       "  'Throws',\n",
       "  'Logging',\n",
       "  'UserPreferences',\n",
       "  'Utils'],\n",
       " ['Network',\n",
       "  'DataStructure',\n",
       "  'Logging',\n",
       "  'UI',\n",
       "  'UserPreferences',\n",
       "  'IO',\n",
       "  'Utils',\n",
       "  'Throws'],\n",
       " ['DataStructure',\n",
       "  'UserPreferences',\n",
       "  'Throws',\n",
       "  'Logging',\n",
       "  'Network',\n",
       "  'IO',\n",
       "  'Utils',\n",
       "  'UI'],\n",
       " ['Logging',\n",
       "  'DataStructure',\n",
       "  'Network',\n",
       "  'IO',\n",
       "  'Throws',\n",
       "  'UI',\n",
       "  'UserPreferences',\n",
       "  'Utils'],\n",
       " ['DataStructure'],\n",
       " ['Logging', 'IO', 'Utils', 'UI', 'Network', 'DataStructure']]"
      ]
     },
     "execution_count": 124,
     "metadata": {},
     "output_type": "execute_result"
    }
   ],
   "source": [
    "values"
   ]
  },
  {
   "cell_type": "code",
   "execution_count": 125,
   "metadata": {},
   "outputs": [
    {
     "data": {
      "text/plain": [
       "array([[0, 0, 1, 0, 1, 1, 1, 0, 1, 1, 1, 1, 0],\n",
       "       [0, 0, 1, 0, 1, 1, 1, 0, 1, 1, 1, 1, 0],\n",
       "       [0, 0, 1, 0, 0, 0, 0, 0, 0, 0, 0, 1, 0],\n",
       "       [0, 0, 1, 0, 1, 0, 0, 1, 0, 0, 0, 1, 0],\n",
       "       [1, 0, 1, 0, 0, 1, 0, 0, 0, 0, 0, 0, 0],\n",
       "       [0, 0, 1, 1, 1, 1, 1, 0, 1, 1, 1, 1, 0],\n",
       "       [0, 0, 1, 1, 1, 1, 0, 0, 0, 1, 0, 1, 0],\n",
       "       [0, 0, 1, 0, 1, 1, 0, 0, 0, 0, 0, 1, 0],\n",
       "       [0, 0, 1, 0, 0, 0, 0, 0, 0, 0, 0, 1, 0],\n",
       "       [0, 1, 1, 0, 0, 1, 0, 0, 0, 0, 0, 0, 1],\n",
       "       [0, 0, 0, 0, 0, 0, 0, 0, 0, 0, 0, 1, 0],\n",
       "       [0, 0, 1, 0, 0, 0, 0, 0, 0, 0, 0, 1, 0],\n",
       "       [0, 0, 1, 0, 1, 1, 1, 0, 1, 1, 1, 1, 0],\n",
       "       [0, 0, 1, 0, 1, 1, 1, 0, 1, 1, 1, 1, 0],\n",
       "       [0, 0, 1, 0, 1, 1, 1, 0, 1, 1, 1, 1, 0],\n",
       "       [0, 0, 1, 0, 1, 1, 1, 0, 1, 1, 1, 1, 0],\n",
       "       [0, 0, 1, 0, 1, 1, 1, 0, 1, 1, 1, 1, 0],\n",
       "       [0, 0, 1, 0, 0, 0, 0, 0, 0, 0, 0, 0, 0],\n",
       "       [0, 0, 1, 0, 1, 1, 1, 0, 0, 1, 0, 1, 0]])"
      ]
     },
     "execution_count": 125,
     "metadata": {},
     "output_type": "execute_result"
    }
   ],
   "source": [
    "y_true"
   ]
  },
  {
   "cell_type": "code",
   "execution_count": 126,
   "metadata": {},
   "outputs": [
    {
     "data": {
      "text/plain": [
       "numpy.ndarray"
      ]
     },
     "execution_count": 126,
     "metadata": {},
     "output_type": "execute_result"
    }
   ],
   "source": [
    "type(y_true)"
   ]
  },
  {
   "cell_type": "code",
   "execution_count": 127,
   "metadata": {},
   "outputs": [
    {
     "data": {
      "text/plain": [
       "(19, 13)"
      ]
     },
     "execution_count": 127,
     "metadata": {},
     "output_type": "execute_result"
    }
   ],
   "source": [
    "y_true.shape"
   ]
  },
  {
   "cell_type": "code",
   "execution_count": 128,
   "metadata": {},
   "outputs": [
    {
     "data": {
      "text/plain": [
       "array([[0., 0., 1., 0., 1., 1., 1., 0., 1., 1., 1., 1., 0.],\n",
       "       [0., 0., 1., 0., 1., 1., 1., 0., 1., 1., 1., 1., 0.],\n",
       "       [0., 0., 1., 0., 0., 0., 0., 0., 0., 0., 0., 1., 0.],\n",
       "       [0., 0., 1., 0., 1., 0., 0., 1., 0., 0., 0., 1., 0.],\n",
       "       [1., 0., 1., 0., 0., 1., 0., 0., 0., 0., 0., 0., 0.],\n",
       "       [0., 0., 1., 1., 1., 1., 1., 0., 1., 1., 1., 1., 0.],\n",
       "       [0., 0., 1., 1., 1., 1., 0., 0., 0., 1., 0., 1., 0.],\n",
       "       [0., 0., 1., 0., 1., 1., 0., 0., 0., 0., 0., 1., 0.],\n",
       "       [0., 0., 1., 0., 0., 0., 0., 0., 0., 0., 0., 1., 0.],\n",
       "       [0., 1., 1., 0., 0., 1., 0., 0., 0., 0., 0., 0., 1.],\n",
       "       [0., 0., 0., 0., 0., 0., 0., 0., 0., 0., 0., 1., 0.],\n",
       "       [0., 0., 1., 0., 0., 0., 0., 0., 0., 0., 0., 1., 0.],\n",
       "       [0., 0., 1., 0., 1., 1., 1., 0., 1., 1., 1., 1., 0.],\n",
       "       [0., 0., 1., 0., 1., 1., 1., 0., 1., 1., 1., 1., 0.],\n",
       "       [0., 0., 1., 0., 1., 1., 1., 0., 1., 1., 1., 1., 0.],\n",
       "       [0., 0., 1., 0., 1., 1., 1., 0., 1., 1., 1., 1., 0.],\n",
       "       [0., 0., 1., 0., 1., 1., 1., 0., 1., 1., 1., 1., 0.],\n",
       "       [0., 0., 1., 0., 0., 0., 0., 0., 0., 0., 0., 0., 0.],\n",
       "       [0., 0., 1., 0., 1., 1., 1., 0., 0., 1., 0., 1., 0.]])"
      ]
     },
     "execution_count": 128,
     "metadata": {},
     "output_type": "execute_result"
    }
   ],
   "source": [
    "y_proba\n"
   ]
  },
  {
   "cell_type": "code",
   "execution_count": 129,
   "metadata": {},
   "outputs": [
    {
     "data": {
      "text/plain": [
       "(19, 13)"
      ]
     },
     "execution_count": 129,
     "metadata": {},
     "output_type": "execute_result"
    }
   ],
   "source": [
    "y_proba.shape"
   ]
  },
  {
   "cell_type": "code",
   "execution_count": 130,
   "metadata": {},
   "outputs": [
    {
     "data": {
      "text/plain": [
       "array([[0, 0, 1, 0, 1, 1, 1, 0, 1, 1, 1, 1, 0],\n",
       "       [0, 0, 1, 0, 1, 1, 1, 0, 1, 1, 1, 1, 0],\n",
       "       [0, 0, 1, 0, 0, 0, 0, 0, 0, 0, 0, 1, 0],\n",
       "       [0, 0, 1, 0, 1, 0, 0, 1, 0, 0, 0, 1, 0],\n",
       "       [1, 0, 1, 0, 0, 1, 0, 0, 0, 0, 0, 0, 0],\n",
       "       [0, 0, 1, 1, 1, 1, 1, 0, 1, 1, 1, 1, 0],\n",
       "       [0, 0, 1, 1, 1, 1, 0, 0, 0, 1, 0, 1, 0],\n",
       "       [0, 0, 1, 0, 1, 1, 0, 0, 0, 0, 0, 1, 0],\n",
       "       [0, 0, 1, 0, 0, 0, 0, 0, 0, 0, 0, 1, 0],\n",
       "       [0, 1, 1, 0, 0, 1, 0, 0, 0, 0, 0, 0, 1],\n",
       "       [0, 0, 0, 0, 0, 0, 0, 0, 0, 0, 0, 1, 0],\n",
       "       [0, 0, 1, 0, 0, 0, 0, 0, 0, 0, 0, 1, 0],\n",
       "       [0, 0, 1, 0, 1, 1, 1, 0, 1, 1, 1, 1, 0],\n",
       "       [0, 0, 1, 0, 1, 1, 1, 0, 1, 1, 1, 1, 0],\n",
       "       [0, 0, 1, 0, 1, 1, 1, 0, 1, 1, 1, 1, 0],\n",
       "       [0, 0, 1, 0, 1, 1, 1, 0, 1, 1, 1, 1, 0],\n",
       "       [0, 0, 1, 0, 1, 1, 1, 0, 1, 1, 1, 1, 0],\n",
       "       [0, 0, 1, 0, 0, 0, 0, 0, 0, 0, 0, 0, 0],\n",
       "       [0, 0, 1, 0, 1, 1, 1, 0, 0, 1, 0, 1, 0]])"
      ]
     },
     "execution_count": 130,
     "metadata": {},
     "output_type": "execute_result"
    }
   ],
   "source": [
    "y_pred"
   ]
  },
  {
   "cell_type": "code",
   "execution_count": 131,
   "metadata": {},
   "outputs": [
    {
     "data": {
      "text/plain": [
       "(19, 13)"
      ]
     },
     "execution_count": 131,
     "metadata": {},
     "output_type": "execute_result"
    }
   ],
   "source": [
    "y_pred.shape"
   ]
  },
  {
   "cell_type": "code",
   "execution_count": 132,
   "metadata": {},
   "outputs": [],
   "source": [
    "#Accuracy\n",
    "acc_ml = accuracy_ml(y_pred,y_true)"
   ]
  },
  {
   "cell_type": "code",
   "execution_count": 133,
   "metadata": {},
   "outputs": [],
   "source": [
    "#F1-Score\n",
    "fmeasure_score = f1_score(y_pred,y_true, average='micro')"
   ]
  },
  {
   "cell_type": "code",
   "execution_count": 134,
   "metadata": {},
   "outputs": [],
   "source": [
    "#AUC-PR\n",
    "pr_score = average_precision_score(y_true,y_proba,average='micro')\n"
   ]
  },
  {
   "cell_type": "code",
   "execution_count": null,
   "metadata": {},
   "outputs": [],
   "source": []
  }
 ],
 "metadata": {
  "kernelspec": {
   "display_name": "Python 3",
   "language": "python",
   "name": "python3"
  },
  "language_info": {
   "codemirror_mode": {
    "name": "ipython",
    "version": 3
   },
   "file_extension": ".py",
   "mimetype": "text/x-python",
   "name": "python",
   "nbconvert_exporter": "python",
   "pygments_lexer": "ipython3",
   "version": "3.7.4"
  }
 },
 "nbformat": 4,
 "nbformat_minor": 2
}
