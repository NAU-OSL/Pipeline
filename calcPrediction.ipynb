{
 "cells": [
  {
   "cell_type": "code",
   "execution_count": 1,
   "metadata": {},
   "outputs": [],
   "source": [
    "import numpy as np\n",
    "import pandas as pd\n",
    "from skmultilearn.problem_transform import BinaryRelevance\n",
    "from sklearn.preprocessing import MultiLabelBinarizer\n",
    "from sklearn.tree import DecisionTreeClassifier\n",
    "\n",
    "  \n",
    "\n",
    "def train():\n",
    "    train = pd.read_csv('./data/train_file_prod1x4.csv',sep=';',index_col=0,header=None)\n",
    "    test = pd.read_csv('./data/test_file_prod1x4.csv',sep=';',index_col=0,header=None)\n",
    "    classes = pd.read_csv('./data/PRClassesNoBlankSpaces.csv',sep=';',index_col=0,header=None)\n",
    "    train = train.fillna(0)\n",
    "    test = test.fillna(0)\n",
    "    \n",
    "    ids = test.index\n",
    "\n",
    "    cls = [data[0].split('-') for data in classes.values]\n",
    "    mlb = MultiLabelBinarizer()\n",
    "    cls = mlb.fit_transform(cls)\n",
    "    classes = pd.DataFrame(cls,index=classes.index)\n",
    "\n",
    "\n",
    "    X_train = train.values  \n",
    "    X_test = test.values\n",
    "    y_train = classes.loc[train.index].values\n",
    "    y_test = classes.loc[test.index].values\n",
    "\n",
    "    clf = BinaryRelevance(classifier=DecisionTreeClassifier(), require_dense = [False, True])\n",
    "    clf.fit(X_train,y_train)\n",
    "    \n",
    "    probability = clf.predict_proba(X_test).toarray()\n",
    "    predict = clf.predict(X_test).toarray()\n",
    "\n",
    "    #predict = pd.DataFrame(predict,index=ids, columns=mlb.classes_)\n",
    "    #probability = pd.DataFrame(probability,index=ids, columns=mlb.classes_)\n",
    "\n",
    "    predict = pd.DataFrame(predict,index=ids)\n",
    "    probability = pd.DataFrame(probability,index=ids)\n",
    "\n",
    "    predict.to_csv('./data/predict_file_1x4NBS.csv')\n",
    "    probability.to_csv('./data/probability_file_1x4NBS.csv')\n",
    "    \n",
    "    return classes, clf, y_train, y_test\n",
    "    \n",
    "\n"
   ]
  },
  {
   "cell_type": "code",
   "execution_count": 2,
   "metadata": {},
   "outputs": [
    {
     "name": "stdout",
     "output_type": "stream",
     "text": [
      "\n"
     ]
    }
   ],
   "source": [
    "classes, clf, y_train, y_test = train()"
   ]
  },
  {
   "cell_type": "code",
   "execution_count": null,
   "metadata": {},
   "outputs": [],
   "source": [
    "\n"
   ]
  },
  {
   "cell_type": "code",
   "execution_count": null,
   "metadata": {},
   "outputs": [],
   "source": []
  },
  {
   "cell_type": "code",
   "execution_count": null,
   "metadata": {},
   "outputs": [],
   "source": [
    "\n"
   ]
  },
  {
   "cell_type": "code",
   "execution_count": null,
   "metadata": {},
   "outputs": [],
   "source": []
  },
  {
   "cell_type": "code",
   "execution_count": null,
   "metadata": {},
   "outputs": [],
   "source": []
  },
  {
   "cell_type": "code",
   "execution_count": null,
   "metadata": {},
   "outputs": [],
   "source": []
  },
  {
   "cell_type": "code",
   "execution_count": null,
   "metadata": {},
   "outputs": [],
   "source": []
  },
  {
   "cell_type": "code",
   "execution_count": null,
   "metadata": {},
   "outputs": [],
   "source": []
  },
  {
   "cell_type": "code",
   "execution_count": null,
   "metadata": {},
   "outputs": [],
   "source": []
  },
  {
   "cell_type": "code",
   "execution_count": null,
   "metadata": {},
   "outputs": [],
   "source": []
  },
  {
   "cell_type": "code",
   "execution_count": null,
   "metadata": {},
   "outputs": [],
   "source": []
  },
  {
   "cell_type": "code",
   "execution_count": null,
   "metadata": {},
   "outputs": [],
   "source": []
  }
 ],
 "metadata": {
  "kernelspec": {
   "display_name": "Python 3",
   "language": "python",
   "name": "python3"
  },
  "language_info": {
   "codemirror_mode": {
    "name": "ipython",
    "version": 3
   },
   "file_extension": ".py",
   "mimetype": "text/x-python",
   "name": "python",
   "nbconvert_exporter": "python",
   "pygments_lexer": "ipython3",
   "version": "3.7.4"
  }
 },
 "nbformat": 4,
 "nbformat_minor": 2
}
